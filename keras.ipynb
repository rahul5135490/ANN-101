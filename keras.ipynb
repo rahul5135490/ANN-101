{
 "cells": [
  {
   "cell_type": "code",
   "execution_count": 1,
   "id": "5382564c",
   "metadata": {},
   "outputs": [],
   "source": [
    "import tensorflow as tf  \n",
    "from tensorflow.keras.models import Sequential  \n",
    "from tensorflow.keras.layers import Dense, Flatten  "
   ]
  },
  {
   "cell_type": "code",
   "execution_count": 2,
   "id": "5dce4253",
   "metadata": {},
   "outputs": [],
   "source": [
    "# MNIST dataset load karte hain  \n",
    "(x_train, y_train), (x_test, y_test) = tf.keras.datasets.mnist.load_data()  \n",
    "# Normalize karte hain  \n",
    "x_train, x_test = x_train/255.0, x_test/255.0  "
   ]
  },
  {
   "cell_type": "code",
   "execution_count": 3,
   "id": "6e182d96",
   "metadata": {},
   "outputs": [
    {
     "name": "stderr",
     "output_type": "stream",
     "text": [
      "c:\\Users\\Admin\\anaconda3\\Lib\\site-packages\\keras\\src\\layers\\reshaping\\flatten.py:37: UserWarning: Do not pass an `input_shape`/`input_dim` argument to a layer. When using Sequential models, prefer using an `Input(shape)` object as the first layer in the model instead.\n",
      "  super().__init__(**kwargs)\n"
     ]
    }
   ],
   "source": [
    "model = Sequential([  \n",
    "    Flatten(input_shape=(28, 28)),        # 2D image ko 1D vector me convert karta hai  \n",
    "    Dense(128, activation='relu'),        # Hidden layer  \n",
    "    Dense(10, activation='softmax')       # Output layer (10 classes)  \n",
    "])  "
   ]
  },
  {
   "cell_type": "code",
   "execution_count": 4,
   "id": "d87e3442",
   "metadata": {},
   "outputs": [],
   "source": [
    "model.compile(optimizer='adam',  \n",
    "              loss='sparse_categorical_crossentropy',  \n",
    "              metrics=['accuracy'])  "
   ]
  },
  {
   "cell_type": "code",
   "execution_count": 5,
   "id": "03b8ba55",
   "metadata": {},
   "outputs": [
    {
     "name": "stdout",
     "output_type": "stream",
     "text": [
      "Epoch 1/5\n",
      "\u001b[1m1875/1875\u001b[0m \u001b[32m━━━━━━━━━━━━━━━━━━━━\u001b[0m\u001b[37m\u001b[0m \u001b[1m9s\u001b[0m 4ms/step - accuracy: 0.9273 - loss: 0.2549 - val_accuracy: 0.9597 - val_loss: 0.1366\n",
      "Epoch 2/5\n",
      "\u001b[1m1875/1875\u001b[0m \u001b[32m━━━━━━━━━━━━━━━━━━━━\u001b[0m\u001b[37m\u001b[0m \u001b[1m8s\u001b[0m 4ms/step - accuracy: 0.9661 - loss: 0.1133 - val_accuracy: 0.9711 - val_loss: 0.1000\n",
      "Epoch 3/5\n",
      "\u001b[1m1875/1875\u001b[0m \u001b[32m━━━━━━━━━━━━━━━━━━━━\u001b[0m\u001b[37m\u001b[0m \u001b[1m10s\u001b[0m 4ms/step - accuracy: 0.9762 - loss: 0.0788 - val_accuracy: 0.9741 - val_loss: 0.0829\n",
      "Epoch 4/5\n",
      "\u001b[1m1875/1875\u001b[0m \u001b[32m━━━━━━━━━━━━━━━━━━━━\u001b[0m\u001b[37m\u001b[0m \u001b[1m8s\u001b[0m 4ms/step - accuracy: 0.9822 - loss: 0.0587 - val_accuracy: 0.9727 - val_loss: 0.0846\n",
      "Epoch 5/5\n",
      "\u001b[1m1875/1875\u001b[0m \u001b[32m━━━━━━━━━━━━━━━━━━━━\u001b[0m\u001b[37m\u001b[0m \u001b[1m8s\u001b[0m 4ms/step - accuracy: 0.9864 - loss: 0.0449 - val_accuracy: 0.9767 - val_loss: 0.0755\n"
     ]
    },
    {
     "data": {
      "text/plain": [
       "<keras.src.callbacks.history.History at 0x191b38d50d0>"
      ]
     },
     "execution_count": 5,
     "metadata": {},
     "output_type": "execute_result"
    }
   ],
   "source": [
    "model.fit(x_train, y_train, epochs=5, validation_data=(x_test, y_test))  "
   ]
  },
  {
   "cell_type": "code",
   "execution_count": 6,
   "id": "f2e5e6ed",
   "metadata": {},
   "outputs": [
    {
     "name": "stdout",
     "output_type": "stream",
     "text": [
      "\u001b[1m313/313\u001b[0m \u001b[32m━━━━━━━━━━━━━━━━━━━━\u001b[0m\u001b[37m\u001b[0m \u001b[1m1s\u001b[0m 3ms/step - accuracy: 0.9767 - loss: 0.0755\n",
      "Test accuracy: 0.9767000079154968\n",
      "\u001b[1m313/313\u001b[0m \u001b[32m━━━━━━━━━━━━━━━━━━━━\u001b[0m\u001b[37m\u001b[0m \u001b[1m1s\u001b[0m 2ms/step\n",
      "[4.9496321e-06 2.7720481e-09 3.5902125e-05 1.7088724e-04 1.7496738e-12\n",
      " 3.3096690e-08 3.8399201e-12 9.9977356e-01 7.1034879e-06 7.6095139e-06]\n"
     ]
    }
   ],
   "source": [
    "# Test accuracy dekhein  \n",
    "test_loss, test_acc = model.evaluate(x_test, y_test)  \n",
    "print(\"Test accuracy:\", test_acc)  \n",
    "  \n",
    "# Prediction  \n",
    "predictions = model.predict(x_test)  \n",
    "print(predictions[0])  # First image ke liye probabilities  "
   ]
  },
  {
   "cell_type": "code",
   "execution_count": null,
   "id": "a7db4aac",
   "metadata": {},
   "outputs": [],
   "source": []
  }
 ],
 "metadata": {
  "kernelspec": {
   "display_name": "base",
   "language": "python",
   "name": "python3"
  },
  "language_info": {
   "codemirror_mode": {
    "name": "ipython",
    "version": 3
   },
   "file_extension": ".py",
   "mimetype": "text/x-python",
   "name": "python",
   "nbconvert_exporter": "python",
   "pygments_lexer": "ipython3",
   "version": "3.12.3"
  }
 },
 "nbformat": 4,
 "nbformat_minor": 5
}
